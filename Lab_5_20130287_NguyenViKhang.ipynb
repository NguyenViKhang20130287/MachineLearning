{
  "nbformat": 4,
  "nbformat_minor": 0,
  "metadata": {
    "colab": {
      "provenance": [],
      "include_colab_link": true
    },
    "kernelspec": {
      "name": "python3",
      "display_name": "Python 3"
    },
    "language_info": {
      "name": "python"
    }
  },
  "cells": [
    {
      "cell_type": "markdown",
      "metadata": {
        "id": "view-in-github",
        "colab_type": "text"
      },
      "source": [
        "<a href=\"https://colab.research.google.com/github/NguyenViKhang20130287/MachineLearning/blob/main/Lab_5_20130287_NguyenViKhang.ipynb\" target=\"_parent\"><img src=\"https://colab.research.google.com/assets/colab-badge.svg\" alt=\"Open In Colab\"/></a>"
      ]
    },
    {
      "cell_type": "markdown",
      "source": [
        "# This lab is to deal with **SVM** to classification tasks and compare its performance with other competitive algorithms. In general, **SVM** is one of the most popular and widely used supervised machine learning algorithms.\n",
        "\n",
        "*   **Deadline: 23:59, 17/03/2023**\n",
        "\n"
      ],
      "metadata": {
        "id": "LMzehe0sy5wr"
      }
    },
    {
      "cell_type": "markdown",
      "source": [
        "# Import libraries"
      ],
      "metadata": {
        "id": "H4nJmxp9zGX4"
      }
    },
    {
      "cell_type": "code",
      "execution_count": null,
      "metadata": {
        "id": "DoVWQ8AEyc-C"
      },
      "outputs": [],
      "source": [
        "#Import svm model\n",
        "from sklearn import svm\n",
        "from prettytable import PrettyTable\n",
        "from sklearn.model_selection import train_test_split\n",
        "from sklearn import datasets\n",
        "from sklearn import svm\n",
        "from sklearn.metrics import accuracy_score\n",
        "from sklearn.metrics import precision_score\n",
        "from sklearn.metrics import recall_score\n",
        "from sklearn.metrics import f1_score\n",
        "from sklearn.tree import DecisionTreeClassifier\n",
        "from sklearn.neighbors import KNeighborsClassifier\n",
        "from sklearn.linear_model import LogisticRegression\n",
        "from google.colab import drive\n",
        "import pandas as pd\n",
        "import numpy as np"
      ]
    },
    {
      "cell_type": "markdown",
      "source": [
        "#Task 1. \n",
        "For breast cancer dataset (https://tinyurl.com/3vme8hr3) which could be loaded from datasets in sklearn as follows:\n",
        "\n",
        "```\n",
        "#Import scikit-learn dataset library\n",
        "from sklearn import datasets\n",
        "\n",
        "#Load dataset\n",
        "cancer = datasets.load_breast_cancer()\n",
        "```\n",
        "\n",
        "*   1.1.\tApply SVM algorithm to above dataset using linear kernel.\n",
        "*   1.2.\tCompare the obtained results with other competitive algorithms (Logistic Regression, Decision Tree, kNN) based on metrics: accuracy, precision, recall, f1 measures.\n",
        "\n"
      ],
      "metadata": {
        "id": "kNv07ARGzOUm"
      }
    },
    {
      "cell_type": "code",
      "source": [
        "cancer = datasets.load_breast_cancer()\n",
        "model = svm.SVC(kernel ='linear')\n",
        "x_train = cancer.data\n",
        "y_train = cancer.target\n",
        "model.fit(x_train, y_train)\n",
        "y_pred = model.predict(x_train)\n",
        "print(confusion_matrix(y_train, y_pred))\n",
        "print(classification_report(y_train, y_pred))\n",
        "##\n",
        "lr = LogisticRegression(random_state = 0)\n",
        "lr.fit(x_train, y_train)\n",
        "lr_pred = lr.predict(x_train)\n",
        "\n",
        "tree = DecisionTreeClassifier()\n",
        "tree.fit(x_train, y_train)\n",
        "tree_pred = tree.predict(x_train)\n",
        "\n",
        "\n",
        "kNN = KNeighborsClassifier(n_neighbors=5)\n",
        "kNN.fit(x_train, y_train)\n",
        "kNN_pred = kNN.predict(x_train)\n",
        "\n",
        "\n",
        "t = PrettyTable([\"Algorithm\",\"Accuracy\",\"Precision\", \"Recall\", \"F1\"])\n",
        "t.add_row([\"SVM\", round(accuracy_score(y_train, y_pred), 2), \n",
        "           round(precision_score(y_train, y_pred, average='micro'), 2), \n",
        "           round(recall_score(y_train, y_pred, average='macro'), 2),\n",
        "           round(f1_score(y_train, y_pred,average='macro'), 2)])\n",
        "t.add_row([\"Logicstic\", round(accuracy_score(y_train, lr_pred), 2), \n",
        "           round(precision_score(y_train, lr_pred, average='micro'), 2), \n",
        "           round(recall_score(y_train, lr_pred, average='macro'), 2),\n",
        "           round(f1_score(y_train, lr_pred,average='macro'), 2)])\n",
        "t.add_row([\"Decision Tree\", round(accuracy_score(y_train, tree_pred), 2), \n",
        "           round(precision_score(y_train, tree_pred, average='micro'), 2), \n",
        "           round(recall_score(y_train, tree_pred, average='macro'), 2),\n",
        "           round(f1_score(y_train, tree_pred,average='macro'), 2)])\n",
        "t.add_row([\"kNN\", round(accuracy_score(y_train, kNN_pred), 2), \n",
        "           round(precision_score(y_train, kNN_pred, average='micro'), 2), \n",
        "           round(recall_score(y_train, kNN_pred, average='macro'), 2),\n",
        "           round(f1_score(y_train, kNN_pred,average='macro'), 2)])\n",
        "print(t)"
      ],
      "metadata": {
        "id": "sOsg77IBzEyo",
        "colab": {
          "base_uri": "https://localhost:8080/",
          "height": 235
        },
        "outputId": "c2bf6323-85bd-4965-9b32-9299fb03b45c"
      },
      "execution_count": 2,
      "outputs": [
        {
          "output_type": "error",
          "ename": "NameError",
          "evalue": "ignored",
          "traceback": [
            "\u001b[0;31m---------------------------------------------------------------------------\u001b[0m",
            "\u001b[0;31mNameError\u001b[0m                                 Traceback (most recent call last)",
            "\u001b[0;32m<ipython-input-2-710c32db41e2>\u001b[0m in \u001b[0;36m<module>\u001b[0;34m\u001b[0m\n\u001b[0;32m----> 1\u001b[0;31m \u001b[0mcancer\u001b[0m \u001b[0;34m=\u001b[0m \u001b[0mdatasets\u001b[0m\u001b[0;34m.\u001b[0m\u001b[0mload_breast_cancer\u001b[0m\u001b[0;34m(\u001b[0m\u001b[0;34m)\u001b[0m\u001b[0;34m\u001b[0m\u001b[0;34m\u001b[0m\u001b[0m\n\u001b[0m\u001b[1;32m      2\u001b[0m \u001b[0mmodel\u001b[0m \u001b[0;34m=\u001b[0m \u001b[0msvm\u001b[0m\u001b[0;34m.\u001b[0m\u001b[0mSVC\u001b[0m\u001b[0;34m(\u001b[0m\u001b[0mkernel\u001b[0m \u001b[0;34m=\u001b[0m\u001b[0;34m'linear'\u001b[0m\u001b[0;34m)\u001b[0m\u001b[0;34m\u001b[0m\u001b[0;34m\u001b[0m\u001b[0m\n\u001b[1;32m      3\u001b[0m \u001b[0mx_train\u001b[0m \u001b[0;34m=\u001b[0m \u001b[0mcancer\u001b[0m\u001b[0;34m.\u001b[0m\u001b[0mdata\u001b[0m\u001b[0;34m\u001b[0m\u001b[0;34m\u001b[0m\u001b[0m\n\u001b[1;32m      4\u001b[0m \u001b[0my_train\u001b[0m \u001b[0;34m=\u001b[0m \u001b[0mcancer\u001b[0m\u001b[0;34m.\u001b[0m\u001b[0mtarget\u001b[0m\u001b[0;34m\u001b[0m\u001b[0;34m\u001b[0m\u001b[0m\n\u001b[1;32m      5\u001b[0m \u001b[0mmodel\u001b[0m\u001b[0;34m.\u001b[0m\u001b[0mfit\u001b[0m\u001b[0;34m(\u001b[0m\u001b[0mx_train\u001b[0m\u001b[0;34m,\u001b[0m \u001b[0my_train\u001b[0m\u001b[0;34m)\u001b[0m\u001b[0;34m\u001b[0m\u001b[0;34m\u001b[0m\u001b[0m\n",
            "\u001b[0;31mNameError\u001b[0m: name 'datasets' is not defined"
          ]
        }
      ]
    },
    {
      "cell_type": "markdown",
      "source": [
        "#Task 2. \n",
        "\n",
        "*   1.1.\tPerform SVM algorithm to **Iris dataset** using **linear kernel**.\n",
        "*   1.2.\tCompare the obtained results in 1.1 with SVM using other kernels (**Polynomial Kernel, Gaussian Kernel, Sigmoid Kernel, Radial Basis Function Kernel**). Some metrics could be used: accuracy, precision, recall, f1 measures\n",
        "\n",
        "\n",
        "\n"
      ],
      "metadata": {
        "id": "S43IoUT-0OQq"
      }
    },
    {
      "cell_type": "code",
      "source": [
        "iris = datasets.load_iris()\n",
        "model = svm.SVC(kernel ='linear')\n",
        "x_train = cancer.data\n",
        "y_train = cancer.target\n",
        "model.fit(x_train, y_train)\n",
        "y_pred = model.predict(x_train)\n",
        "\n",
        "####\n",
        "\n",
        "poly = svm.SVC(kernel='poly', degree=5)\n",
        "poly.fit(x_train, y_train)\n",
        "\n",
        "sigmoid = svm.SVC(kernel='sigmoid')\n",
        "sigmoid.fit(x_train, y_train)\n",
        "\n",
        "rbf = svm.SVC(kernel='rbf')\n",
        "rbf.fit(x_train, y_train)\n",
        "\n",
        "poly_pred =poly.predict(x_train)\n",
        "sigmoid_pred = sigmoid.predict(x_train)\n",
        "rbf_pred = rbf.predict(x_train)\n",
        "\n",
        "\n",
        "t = PrettyTable([\"Kernel\",\"Accuracy\",\"Precision\", \"Recall\", \"F1\"])\n",
        "t.add_row([\"Linear\", round(accuracy_score(y_train, y_pred), 2), \n",
        "           round(precision_score(y_train, y_pred, average='micro'), 2), \n",
        "           round(recall_score(y_train, y_pred, average='macro'), 2),\n",
        "           round(f1_score(y_train, y_pred,average='macro'), 2)])\n",
        "t.add_row([\"Poly\", round(accuracy_score(y_train, poly_pred), 2), \n",
        "           round(precision_score(y_train, poly_pred, average='micro'), 2), \n",
        "           round(recall_score(y_train, poly_pred, average='macro'), 2),\n",
        "           round(f1_score(y_train, poly_pred,average='macro'), 2)])\n",
        "t.add_row([\"Sigmoid\", round(accuracy_score(y_train, sigmoid_pred), 2), \n",
        "           round(precision_score(y_train, sigmoid_pred, average='micro'), 2), \n",
        "           round(recall_score(y_train, sigmoid_pred, average='macro'), 2),\n",
        "           round(f1_score(y_train, sigmoid_pred,average='macro'), 2)])\n",
        "t.add_row([\"RBF\", round(accuracy_score(y_train, rbf_pred), 2), \n",
        "           round(precision_score(y_train, rbf_pred, average='micro'), 2), \n",
        "           round(recall_score(y_train, rbf_pred, average='macro'), 2),\n",
        "           round(f1_score(y_train, rbf_pred,average='macro'), 2)])\n",
        "print(t)"
      ],
      "metadata": {
        "id": "_xhPpF5b033h"
      },
      "execution_count": null,
      "outputs": []
    },
    {
      "cell_type": "markdown",
      "source": [
        "#Task 3. \n",
        "Compare the performance of selected classification algorithms (Decision Tree, kNN, Logistic Regression) and SVM (using different kernels) with mnist dataset based on accuracy, precision, recall, f1 measures.\n"
      ],
      "metadata": {
        "id": "b52OPWPD2afi"
      }
    },
    {
      "cell_type": "markdown",
      "source": [
        "#Task 4. \n",
        "Compare the performance of selected classification algorithms (Decision Tree, kNN, Logistic Regression) and SVM (using different kernels) with **credit card dataset** based on accuracy, precision, recall, f1 measures.\n",
        "\n",
        "*   Give some comments on the obtained results\n",
        "*   Identify issues with dataset, and propose the solutions to these issues\n",
        "\n"
      ],
      "metadata": {
        "id": "Z5pp7_h-aP2u"
      }
    },
    {
      "cell_type": "code",
      "source": [
        "credit_cards = pd.read_csv(\"creditcard.csv\")\n",
        "y_train = credit_cards['Class']\n",
        "x_train = credit_cards.iloc[:, :30]\n",
        "model = svm.SVC(kernel ='linear')\n",
        "\n",
        "model.fit(x_train, y_train)\n",
        "y_pred = model.predict(x_train)\n",
        "\n",
        "poly = svm.SVC(kernel='poly', degree=5)\n",
        "poly.fit(x_train, y_train)\n",
        "\n",
        "sigmoid = svm.SVC(kernel='sigmoid')\n",
        "sigmoid.fit(x_train, y_train)\n",
        "\n",
        "rbf = svm.SVC(kernel='rbf')\n",
        "rbf.fit(x_train, y_train)\n",
        "\n",
        "poly_pred =poly.predict(x_train)\n",
        "sigmoid_pred = sigmoid.predict(x_train)\n",
        "rbf_pred = rbf.predict(x_train)\n",
        "\n",
        "lr = LogisticRegression(random_state = 0)\n",
        "lr.fit(x_train, y_train)\n",
        "lr_pred = lr.predict(x_train)\n",
        "\n",
        "tree = DecisionTreeClassifier()\n",
        "tree.fit(x_train, y_train)\n",
        "tree_pred = tree.predict(x_train)\n",
        "\n",
        "\n",
        "kNN = KNeighborsClassifier(n_neighbors=5)\n",
        "kNN.fit(x_train, y_train)\n",
        "kNN_pred = kNN.predict(x_train)\n",
        "\n",
        "t = PrettyTable([\"Algorithm\",\"Accuracy\",\"Precision\", \"Recall\", \"F1\"])\n",
        "t.add_row([\"Logicstic\", round(accuracy_score(y_train, lr_pred), 2), \n",
        "           round(precision_score(y_train, lr_pred, average='micro'), 2), \n",
        "           round(recall_score(y_train, lr_pred, average='macro'), 2),\n",
        "           round(f1_score(y_train, lr_pred,average='macro'), 2)])\n",
        "t.add_row([\"Decision Tree\", round(accuracy_score(y_train, tree_pred), 2), \n",
        "           round(precision_score(y_train, tree_pred, average='micro'), 2), \n",
        "           round(recall_score(y_train, tree_pred, average='macro'), 2),\n",
        "           round(f1_score(y_train, tree_pred,average='macro'), 2)])\n",
        "t.add_row([\"kNN\", round(accuracy_score(y_train, kNN_pred), 2), \n",
        "           round(precision_score(y_train, kNN_pred, average='micro'), 2), \n",
        "           round(recall_score(y_train, kNN_pred, average='macro'), 2),\n",
        "           round(f1_score(y_train, kNN_pred,average='macro'), 2)])\n",
        "t.add_row([\"Linear\", round(accuracy_score(y_train, y_pred), 2), \n",
        "           round(precision_score(y_train, y_pred, average='micro'), 2), \n",
        "           round(recall_score(y_train, y_pred, average='macro'), 2),\n",
        "           round(f1_score(y_train, y_pred,average='macro'), 2)])\n",
        "t.add_row([\"Poly\", round(accuracy_score(y_train, poly_pred), 2), \n",
        "           round(precision_score(y_train, poly_pred, average='micro'), 2), \n",
        "           round(recall_score(y_train, poly_pred, average='macro'), 2),\n",
        "           round(f1_score(y_train, poly_pred,average='macro'), 2)])\n",
        "t.add_row([\"Sigmoid\", round(accuracy_score(y_train, sigmoid_pred), 2), \n",
        "           round(precision_score(y_train, sigmoid_pred, average='micro'), 2), \n",
        "           round(recall_score(y_train, sigmoid_pred, average='macro'), 2),\n",
        "           round(f1_score(y_train, sigmoid_pred,average='macro'), 2)])\n",
        "t.add_row([\"RBF\", round(accuracy_score(y_train, rbf_pred), 2), \n",
        "           round(precision_score(y_train, rbf_pred, average='micro'), 2), \n",
        "           round(recall_score(y_train, rbf_pred, average='macro'), 2),\n",
        "           round(f1_score(y_train, rbf_pred,average='macro'), 2)])\n",
        "print(t)"
      ],
      "metadata": {
        "id": "Rw_-8FIf2KxW"
      },
      "execution_count": null,
      "outputs": []
    },
    {
      "cell_type": "markdown",
      "source": [
        "#Finally,\n",
        "Save a copy in your Github. Remember renaming the notebook."
      ],
      "metadata": {
        "id": "Ok7RGkea_b7n"
      }
    }
  ]
}